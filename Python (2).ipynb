{
  "nbformat": 4,
  "nbformat_minor": 0,
  "metadata": {
    "colab": {
      "provenance": []
    },
    "kernelspec": {
      "name": "python3",
      "display_name": "Python 3"
    },
    "language_info": {
      "name": "python"
    }
  },
  "cells": [
    {
      "cell_type": "markdown",
      "source": [
        "# Python"
      ],
      "metadata": {
        "id": "k20IYGHDKx9-"
      }
    },
    {
      "cell_type": "markdown",
      "source": [
        "1. What is Python, and why is it popular?\n",
        "   -  Python is a high-level, interpreted programming language known for its simplicity, readability, and versatility. It was created by Guido van Rossum and first released in 1991.\n",
        "2. What is an interpreter in Python?\n",
        "   -  An interpreter in Python is a program that reads and executes Python code line by line. Unlike a compiler, which translates the entire source code into machine code before running it, a Python interpreter translates and runs code on the fly, one statement at a time.\n",
        "3. What are pre-defined keywords in Python?\n",
        "   -  Pre-defined keywords in Python (often simply called keywords or reserved words) are words that are reserved by the language because they have special meaning. These keywords are used to define the syntax and structure of Python programs and cannot be used as identifiers (e.g., variable names, function names, etc.).\n",
        "4. Can keywords be used as variable names?\n",
        "   -  No, keywords cannot be used as variable names in most programming languages, including Python, Java, C, and JavaScript.\n",
        "5. What is mutability in Python?\n",
        "   -  In Python, mutability refers to whether or not an object can be changed after it is created.\n",
        "6. Why are lists mutable, but tuples are immutable?\n",
        "   -  In Python, the mutability of a data type refers to whether its contents (elements) can be changed after the object is created. The design choice to make lists mutable and tuples immutable is deliberate and serves specific purposes.\n",
        "7. What is the difference between “==” and “is” operators in Python?\n",
        "   -  In Python, == and is are both comparison operators, but they have different purposes and behaviors:\n",
        "   -  == (Equality Operator)\n",
        "   -  Checks if the values of two variables are equal.\n",
        "   -  It compares the contents of the objects.\n",
        "   -  It can be overridden by defining the __eq__() method in a class.\n",
        "   -  a = [1, 2, 3]\n",
        "   -  b = [1, 2, 3]\n",
        "   -  print(a == b)  # True, because the contents are the same\n",
        "   -  is (Identity Operator)\n",
        "   -  Checks if two variables refer to the exact same object in memory.\n",
        "   -  It compares object identity, not value.\n",
        "   -  a = [1, 2, 3]\n",
        "   -  b = [1, 2, 3]\n",
        "   -  print(a is b)  # False, because they are different objects in memory\n",
        "8. What are logical operators in Python?\n",
        "   -  In Python, logical operators are used to combine conditional statements and evaluate the truthiness of expressions. There are three main logical operators:\n",
        "   -  1. and\n",
        "   -  Returns True if both statements are True.\n",
        "   -  Syntax: condition1 and condition2\n",
        "   -  2. or\n",
        "   -  Returns True if at least one of the statements is True.\n",
        "   -  Syntax: condition1 or condition2\n",
        "   -  3. not\n",
        "   -  Reverses the result: returns False if the result is True, and vice versa\n",
        "   -  Syntax: not condition\n",
        "9. What is type casting in Python?\n",
        "   -  Type casting in Python refers to the process of converting a variable from one data type to another. This is useful when you need to perform operations between different data types or when you want to change the type of data for compatibility or correctness.\n",
        "   -  Types of Type Casting in Python\n",
        "   -  1. Implicit Type Casting\n",
        "   -  Automatically done by Python.\n",
        "   -  Python converts one data type to another without user involvement.\n",
        "   -  2. Explicit Type Casting\n",
        "   -  Done manually by the programmer using built-in functions.\n",
        "   -  You explicitly convert data from one type to another.\n",
        "10. What is the difference between implicit and explicit type casting?\n",
        "   -  The difference between implicit and explicit type casting lies in who performs the conversion and how intentional it is:\n",
        "   -  🔹 Implicit Type Casting (Type Coercion)\n",
        "   -  Done automatically by the compiler or interpreter.\n",
        "   -  Happens when converting a smaller data type to a larger one, or when there is no risk of data loss.\n",
        "   -  No explicit code is needed by the programmer.\n",
        "   -🔹 Explicit Type Casting (Type Conversion)\n",
        "   -  Performed manually by the programmer\n",
        "   -  Requires using a casting operator or method\n",
        "   -  Used when you want to force a conversion that might lose information (like float to int)\n",
        "11. What is the purpose of conditional statements in Python?\n",
        "   -  The purpose of conditional statements in Python is to allow a program to make decisions and execute certain blocks of code only when specific conditions are met.\n",
        "   -  In simple terms:\n",
        "   -  Conditional statements control the flow of a program based on whether a condition (an expression that evaluates to True or False) is satisfied.\n",
        "  -  Main conditional statements in Python:\n",
        "  -  if — runs a block of code if a condition is True.\n",
        "  -  elif (short for else if) — checks another condition if the previous one was False.\n",
        "  -  else — runs a block of code if all previous conditions were False.\n",
        "12. How does the elif statement work?\n",
        "  -  The elif statement in Python is short for \"else if\", and it is used in conditional statements to check multiple conditions sequentially. It allows you to execute a block of code if a specific condition is true, after checking one or more previous conditions that may have been false.\n",
        "  -  Basic Structure\n",
        "  -  if condition1:\n",
        "    # Code block if condition1 is True\n",
        "  -  elif condition2:\n",
        "    # Code block if condition2 is True\n",
        "  -  elif condition3:\n",
        "    # Code block if condition3 is True\n",
        "  -  else:\n",
        "    # Code block if none of the above conditions are True\n",
        "\n",
        "13. What is the difference between for and while loops?\n",
        "  -  The primary difference between for and while loops lies in how and when they check their conditions and how they are typically used. Here's a breakdown:\n",
        "  -   for Loop\n",
        "  -  Use case: When you know in advance how many times you want to loop.\n",
        "  -  Syntax (in Python):\n",
        "  -  for i in range(5):\n",
        "    print(i)\n",
        "  -  while Loop\n",
        "  -  Use case: When you don’t know how many times you'll loop in advance — you loop until a condition becomes false.\n",
        "  -  Syntax (in Python):\n",
        "  -  i = 0\n",
        "  -  while i < 5:\n",
        "    print(i)\n",
        "    i += 1\n",
        "14. Describe a scenario where a while loop is more suitable than a for loop?\n",
        "  -  A while loop is more suitable than a for loop when the number of iterations is not known in advance and depends on a condition that is evaluated during runtime.\n",
        "  -  User Login System:\n",
        "  -  You're building a system that asks a user for a password until they enter the correct one. You don't know how many attempts it will take, so a while loop is ideal.\n",
        "  -  correct_password = \"secure123\"\n",
        "user_input = input(\"Enter your password: \")\n",
        "  -  while user_input != correct_password:\n",
        "    print(\"Incorrect password. Try again.\")\n",
        "    user_input = input(\"Enter your password: \")\n",
        "  -  print(\"Access granted!\")\n",
        "\n"
      ],
      "metadata": {
        "id": "ZgogrKZ0TPLg"
      }
    },
    {
      "cell_type": "code",
      "source": [
        "# 1. What is Python, and why is it popular?\n",
        "'''\n",
        "Python is a high-level, interpreted programming language known for its simplicity, readability, and versatility. It was created by Guido van Rossum and first released in 1991.\n",
        "'''\n",
        "\"\"\"\n",
        "Python is a high-level, interpreted programming language known for its simplicity, readability, and versatility. It was created by Guido van Rossum and first released in 1991.\n",
        "\"\"\""
      ],
      "metadata": {
        "id": "tqjvHhyCTwl4",
        "colab": {
          "base_uri": "https://localhost:8080/",
          "height": 53
        },
        "outputId": "50744052-0e77-4d7a-d61c-25d0736e9a4d"
      },
      "execution_count": null,
      "outputs": [
        {
          "output_type": "execute_result",
          "data": {
            "text/plain": [
              "'\\nPython is a high-level, interpreted programming language known for its simplicity, readability, and versatility. It was created by Guido van Rossum and first released in 1991.\\n'"
            ],
            "application/vnd.google.colaboratory.intrinsic+json": {
              "type": "string"
            }
          },
          "metadata": {},
          "execution_count": 1
        }
      ]
    },
    {
      "cell_type": "code",
      "source": [
        "# 2. What is an interpreter in Python?\n",
        "'''\n",
        "An interpreter in Python is a program that reads and executes Python code line by line, translating it into machine code at runtime.\n",
        "'''\n",
        "\"\"\"\n",
        "An interpreter in Python is a program that reads and executes Python code line by line, translating it into machine code at runtime.\n",
        "\"\"\""
      ],
      "metadata": {
        "colab": {
          "base_uri": "https://localhost:8080/",
          "height": 35
        },
        "id": "UEKlhGshZmz7",
        "outputId": "77a7b0ad-d4ab-423c-9485-bafe1b0d3e01"
      },
      "execution_count": null,
      "outputs": [
        {
          "output_type": "execute_result",
          "data": {
            "text/plain": [
              "'\\nAn interpreter in Python is a program that reads and executes Python code line by line, translating it into machine code at runtime.\\n'"
            ],
            "application/vnd.google.colaboratory.intrinsic+json": {
              "type": "string"
            }
          },
          "metadata": {},
          "execution_count": 2
        }
      ]
    },
    {
      "cell_type": "code",
      "source": [
        "# 3. What are pre-defined keywords in Python?\n",
        "'''\n",
        "Pre-defined keywords in Python are reserved words that have special meaning to the Python interpreter. These keywords are part of the Python language syntax and cannot be used as identifiers (such as variable names, function names, etc.).\n",
        "'''\n",
        "\"\"\"\n",
        "Pre-defined keywords in Python are reserved words that have special meaning to the Python interpreter. These keywords are part of the Python language syntax and cannot be used as identifiers (such as variable names, function names, etc.).\n",
        "\"\"\""
      ],
      "metadata": {
        "colab": {
          "base_uri": "https://localhost:8080/",
          "height": 53
        },
        "id": "GCs2hMIuamur",
        "outputId": "e0f12891-97fc-447d-8a72-5e6017ea5fb5"
      },
      "execution_count": null,
      "outputs": [
        {
          "output_type": "execute_result",
          "data": {
            "text/plain": [
              "'\\nPre-defined keywords in Python are reserved words that have special meaning to the Python interpreter. These keywords are part of the Python language syntax and cannot be used as identifiers (such as variable names, function names, etc.).\\n'"
            ],
            "application/vnd.google.colaboratory.intrinsic+json": {
              "type": "string"
            }
          },
          "metadata": {},
          "execution_count": 4
        }
      ]
    },
    {
      "cell_type": "code",
      "source": [
        "# 4. Can keywords be used as variable names?\n",
        "'''\n",
        "No, keywords cannot be used as variable names in most programming languages, including Python, Java, C, and JavaScript.\n",
        "\n",
        "'''\n",
        "\"\"\"\n",
        "No, keywords cannot be used as variable names in most programming languages, including Python, Java, C, and JavaScript.\n",
        "\n",
        "\"\"\""
      ],
      "metadata": {
        "colab": {
          "base_uri": "https://localhost:8080/",
          "height": 35
        },
        "id": "SoJ33X6UcUAy",
        "outputId": "b8b84f1d-76d1-472a-a916-240767e6622c"
      },
      "execution_count": null,
      "outputs": [
        {
          "output_type": "execute_result",
          "data": {
            "text/plain": [
              "'\\nNo, keywords cannot be used as variable names in most programming languages, including Python, Java, C, and JavaScript.\\n\\n'"
            ],
            "application/vnd.google.colaboratory.intrinsic+json": {
              "type": "string"
            }
          },
          "metadata": {},
          "execution_count": 5
        }
      ]
    },
    {
      "cell_type": "code",
      "source": [
        "# 5. What is mutability in Python?\n",
        "'''\n",
        "In Python, mutability refers to whether or not an object can be changed after it is created.\n",
        "'''\n",
        "\"\"\"\n",
        "In Python, mutability refers to whether or not an object can be changed after it is created.\n",
        "\"\"\""
      ],
      "metadata": {
        "colab": {
          "base_uri": "https://localhost:8080/",
          "height": 35
        },
        "id": "4SZM_Xlxda4x",
        "outputId": "23c3ff56-8c8d-4a0c-bc87-75bd7c94df81"
      },
      "execution_count": null,
      "outputs": [
        {
          "output_type": "execute_result",
          "data": {
            "text/plain": [
              "'\\nIn Python, mutability refers to whether or not an object can be changed after it is created.\\n'"
            ],
            "application/vnd.google.colaboratory.intrinsic+json": {
              "type": "string"
            }
          },
          "metadata": {},
          "execution_count": 6
        }
      ]
    },
    {
      "cell_type": "code",
      "source": [
        "# 6. Why are lists mutable, but tuples are immutable?\n",
        "'''\n",
        "In Python, lists are mutable and tuples are immutable because of their intended use cases and design philosophy. Here’s a clear breakdown:\n",
        "'''\n",
        "\"\"\"\n",
        "In Python, lists are mutable and tuples are immutable because of their intended use cases and design philosophy. Here’s a clear breakdown:\n",
        "\"\"\""
      ],
      "metadata": {
        "colab": {
          "base_uri": "https://localhost:8080/",
          "height": 35
        },
        "id": "oELMapjjeKDp",
        "outputId": "1d0343a9-9a79-4d2a-cad5-dd5923b37d15"
      },
      "execution_count": null,
      "outputs": [
        {
          "output_type": "execute_result",
          "data": {
            "text/plain": [
              "'\\nIn Python, lists are mutable and tuples are immutable because of their intended use cases and design philosophy. Here’s a clear breakdown:\\n'"
            ],
            "application/vnd.google.colaboratory.intrinsic+json": {
              "type": "string"
            }
          },
          "metadata": {},
          "execution_count": 7
        }
      ]
    },
    {
      "cell_type": "code",
      "source": [
        "# 7. What is the difference between “==” and “is” operators in Python?\n",
        "'''\n",
        "In Python, the == and is operators are used for comparison, but they check different things:\n",
        "== (Equality Operator)\n",
        "Checks if the values of two variables are equal.\n",
        "It compares the contents of the objects.\n",
        "It can be overridden by defining the __eq__() method in a class.\n",
        "a = [1, 2, 3]\n",
        "b = [1, 2, 3]\n",
        "print(a == b)  # True, because the contents are the same\n",
        "is (Identity Operator)\n",
        "Checks if two variables refer to the exact same object in memory.\n",
        "It compares object identity, not value\n",
        "a = [1, 2, 3]\n",
        "b = [1, 2, 3]\n",
        "print(a is b)  # False, because they are different objects in memory\n",
        "'''\n",
        "\"\"\"\n",
        "In Python, the == and is operators are used for comparison, but they check different things:\n",
        "== (Equality Operator)\n",
        "Checks if the values of two variables are equal.\n",
        "It compares the contents of the objects.\n",
        "It can be overridden by defining the __eq__() method in a class.\n",
        "a = [1, 2, 3]\n",
        "b = [1, 2, 3]\n",
        "print(a == b)  # True, because the contents are the same\n",
        "is (Identity Operator)\n",
        "Checks if two variables refer to the exact same object in memory.\n",
        "It compares object identity, not value\n",
        "a = [1, 2, 3]\n",
        "b = [1, 2, 3]\n",
        "print(a is b)  # False, because they are different objects in memory\n",
        "\"\"\""
      ],
      "metadata": {
        "colab": {
          "base_uri": "https://localhost:8080/",
          "height": 87
        },
        "id": "5Qu4YMMqerTF",
        "outputId": "36b62ff1-ee97-463f-8565-33ff8b2f2ba8"
      },
      "execution_count": null,
      "outputs": [
        {
          "output_type": "execute_result",
          "data": {
            "text/plain": [
              "'\\nIn Python, the == and is operators are used for comparison, but they check different things:\\n== (Equality Operator)\\nChecks if the values of two variables are equal.\\nIt compares the contents of the objects.\\nIt can be overridden by defining the __eq__() method in a class.\\na = [1, 2, 3]\\nb = [1, 2, 3]\\nprint(a == b)  # True, because the contents are the same\\nis (Identity Operator)\\nChecks if two variables refer to the exact same object in memory.\\nIt compares object identity, not value\\na = [1, 2, 3]\\nb = [1, 2, 3]\\nprint(a is b)  # False, because they are different objects in memory\\n'"
            ],
            "application/vnd.google.colaboratory.intrinsic+json": {
              "type": "string"
            }
          },
          "metadata": {},
          "execution_count": 8
        }
      ]
    },
    {
      "cell_type": "code",
      "source": [
        "# 8. What are logical operators in Python?\n",
        "'''\n",
        "Logical operators in Python are used to combine conditional statements. They return Boolean values (True or False) and are typically used in if statements and loops.\n",
        "There are three main logical operators in Python:\n",
        "1. and\n",
        "Returns True only if both statements are True.\n",
        "2. or\n",
        "Returns True if at least one of the statements is True.\n",
        "3. not\n",
        "Reverses the result. Returns True if the condition is False.\n",
        "'''\n",
        "\"\"\"\n",
        "Logical operators in Python are used to combine conditional statements. They return Boolean values (True or False) and are typically used in if statements and loops.\n",
        "There are three main logical operators in Python:\n",
        "1. and\n",
        "Returns True only if both statements are True.\n",
        "2. or\n",
        "Returns True if at least one of the statements is True.\n",
        "3. not\n",
        "Reverses the result. Returns True if the condition is False.\n",
        "\"\"\""
      ],
      "metadata": {
        "id": "OTV5x_pBid1G",
        "colab": {
          "base_uri": "https://localhost:8080/",
          "height": 70
        },
        "outputId": "4167d8dd-bd17-4034-e48f-479de0999e79"
      },
      "execution_count": null,
      "outputs": [
        {
          "output_type": "execute_result",
          "data": {
            "text/plain": [
              "'\\nLogical operators in Python are used to combine conditional statements. They return Boolean values (True or False) and are typically used in if statements and loops.\\nThere are three main logical operators in Python:\\n1. and\\nReturns True only if both statements are True.\\n2. or\\nReturns True if at least one of the statements is True.\\n3. not\\nReverses the result. Returns True if the condition is False.\\n'"
            ],
            "application/vnd.google.colaboratory.intrinsic+json": {
              "type": "string"
            }
          },
          "metadata": {},
          "execution_count": 2
        }
      ]
    },
    {
      "cell_type": "code",
      "source": [
        "# 9. What is type casting in Python?\n",
        "'''\n",
        "Type casting in Python refers to converting the data type of a variable from one type to another. This is often used when you need to perform operations that require variables to be of a specific type.\n",
        "Types of Type Casting\n",
        "1. Implicit Type Casting\n",
        "Done automatically by Python.\n",
        "Python converts one data type to another without losing information.\n",
        "2. Explicit Type Casting\n",
        "Done manually by the programmer using type conversion functions.\n",
        "Common functions: int(), float(), str(), bool(), etc.\n",
        "'''\n",
        "\"\"\"\n",
        "Type casting in Python refers to converting the data type of a variable from one type to another. This is often used when you need to perform operations that require variables to be of a specific type.\n",
        "Types of Type Casting\n",
        "1. Implicit Type Casting\n",
        "Done automatically by Python.\n",
        "Python converts one data type to another without losing information.\n",
        "2. Explicit Type Casting\n",
        "Done manually by the programmer using type conversion functions.\n",
        "Common functions: int(), float(), str(), bool(), etc.\n",
        "\"\"\""
      ],
      "metadata": {
        "colab": {
          "base_uri": "https://localhost:8080/",
          "height": 87
        },
        "id": "HgmruZQoh1dj",
        "outputId": "8229832d-c031-41e6-be6c-8e02b90c1797"
      },
      "execution_count": null,
      "outputs": [
        {
          "output_type": "execute_result",
          "data": {
            "text/plain": [
              "'\\nType casting in Python refers to converting the data type of a variable from one type to another. This is often used when you need to perform operations that require variables to be of a specific type.\\nTypes of Type Casting\\n1. Implicit Type Casting\\nDone automatically by Python.\\nPython converts one data type to another without losing information.\\n2. Explicit Type Casting\\nDone manually by the programmer using type conversion functions.\\nCommon functions: int(), float(), str(), bool(), etc.\\n'"
            ],
            "application/vnd.google.colaboratory.intrinsic+json": {
              "type": "string"
            }
          },
          "metadata": {},
          "execution_count": 1
        }
      ]
    },
    {
      "cell_type": "code",
      "source": [
        "# 10. What is the difference between implicit and explicit type casting?\n",
        "'''\n",
        "The difference between implicit and explicit type casting lies in how the conversion between data types is performed — either automatically by the compiler or manually by the programmer.\n",
        "🔹 Implicit Type Casting (Type Coercion)\n",
        "Definition:\n",
        "The compiler automatically converts one data type to another without programmer intervention.\n",
        "Characteristics:\n",
        "Happens when there's no risk of data loss.\n",
        "Usually occurs when converting a smaller data type to a larger one (e.g., int to float).\n",
        "Ensures type compatibility in expressions.\n",
        "🔹 Explicit Type Casting (Type Conversion)\n",
        "Definition:\n",
        "The programmer manually converts a value from one type to another using cast operators.\n",
        "Characteristics:\n",
        "Required when there's potential for data loss.\n",
        "Gives the programmer control over conversions.\n",
        "Must be clearly specified in the code.\n",
        "'''\n",
        "\"\"\"\n",
        "The difference between implicit and explicit type casting lies in how the conversion between data types is performed — either automatically by the compiler or manually by the programmer.\n",
        "🔹 Implicit Type Casting (Type Coercion)\n",
        "Definition:\n",
        "The compiler automatically converts one data type to another without programmer intervention.\n",
        "Characteristics:\n",
        "Happens when there's no risk of data loss.\n",
        "Usually occurs when converting a smaller data type to a larger one (e.g., int to float).\n",
        "Ensures type compatibility in expressions.\n",
        "🔹 Explicit Type Casting (Type Conversion)\n",
        "Definition:\n",
        "The programmer manually converts a value from one type to another using cast operators.\n",
        "Characteristics:\n",
        "Required when there's potential for data loss.\n",
        "Gives the programmer control over conversions.\n",
        "Must be clearly specified in the code.\n",
        "\"\"\""
      ],
      "metadata": {
        "colab": {
          "base_uri": "https://localhost:8080/",
          "height": 122
        },
        "id": "-GLpene2kAB6",
        "outputId": "28bb8efd-8636-4090-e9fc-bec957b9b9c3"
      },
      "execution_count": null,
      "outputs": [
        {
          "output_type": "execute_result",
          "data": {
            "text/plain": [
              "\"\\nThe difference between implicit and explicit type casting lies in how the conversion between data types is performed — either automatically by the compiler or manually by the programmer.\\n🔹 Implicit Type Casting (Type Coercion)\\nDefinition:\\nThe compiler automatically converts one data type to another without programmer intervention.\\nCharacteristics:\\nHappens when there's no risk of data loss.\\nUsually occurs when converting a smaller data type to a larger one (e.g., int to float).\\nEnsures type compatibility in expressions.\\n🔹 Explicit Type Casting (Type Conversion)\\nDefinition:\\nThe programmer manually converts a value from one type to another using cast operators.\\nCharacteristics:\\nRequired when there's potential for data loss.\\nGives the programmer control over conversions.\\nMust be clearly specified in the code.\\n\""
            ],
            "application/vnd.google.colaboratory.intrinsic+json": {
              "type": "string"
            }
          },
          "metadata": {},
          "execution_count": 3
        }
      ]
    },
    {
      "cell_type": "code",
      "source": [
        "# 11. What is the purpose of conditional statements in Python?\n",
        "'''\n",
        "The purpose of conditional statements in Python is to control the flow of a program by executing certain blocks of code only when specific conditions are met.\n",
        "\n",
        "Why They’re Useful:\n",
        "Decision-making: They let your program make choices based on data or user input.\n",
        "Control flow: They allow different actions to occur under different circumstances.\n",
        "Logic implementation: You can express rules or conditions clearly in your code.\n",
        "Main Types of Conditional Statements in Python:\n",
        "if – Executes a block if a condition is true.\n",
        "elif (else if) – Adds more conditions if the previous ones are false.\n",
        "else – Catches everything else when no previous condition is met.\n",
        "'''\n",
        "\"\"\"\n",
        "The purpose of conditional statements in Python is to control the flow of a program by executing certain blocks of code only when specific conditions are met.\n",
        "Why They’re Useful:\n",
        "Decision-making: They let your program make choices based on data or user input.\n",
        "Control flow: They allow different actions to occur under different circumstances.\n",
        "Logic implementation: You can express rules or conditions clearly in your code.\n",
        "Main Types of Conditional Statements in Python:\n",
        "if – Executes a block if a condition is true.\n",
        "elif (else if) – Adds more conditions if the previous ones are false.\n",
        "else – Catches everything else when no previous condition is met.\n",
        "\"\"\""
      ],
      "metadata": {
        "colab": {
          "base_uri": "https://localhost:8080/",
          "height": 105
        },
        "id": "qG1JV7X8mRhx",
        "outputId": "c8ca2c00-9174-45d5-c4d6-ab19bd5d73ef"
      },
      "execution_count": null,
      "outputs": [
        {
          "output_type": "execute_result",
          "data": {
            "text/plain": [
              "'\\nThe purpose of conditional statements in Python is to control the flow of a program by executing certain blocks of code only when specific conditions are met.\\nWhy They’re Useful:\\nDecision-making: They let your program make choices based on data or user input.\\nControl flow: They allow different actions to occur under different circumstances.\\nLogic implementation: You can express rules or conditions clearly in your code.\\nMain Types of Conditional Statements in Python:\\nif – Executes a block if a condition is true.\\nelif (else if) – Adds more conditions if the previous ones are false.\\nelse – Catches everything else when no previous condition is met.\\n'"
            ],
            "application/vnd.google.colaboratory.intrinsic+json": {
              "type": "string"
            }
          },
          "metadata": {},
          "execution_count": 4
        }
      ]
    },
    {
      "cell_type": "code",
      "source": [
        "# 12. How does the elif statement work?\n",
        "'''\n",
        "The elif statement in Python is short for \"else if\". It's used as part of an if...elif...else conditional structure to check multiple conditions, one after another.\n",
        "Here's how it works:\n",
        "Basic Structure\n",
        "if condition1:\n",
        "    # Code block if condition1 is True\n",
        "elif condition2:\n",
        "    # Code block if condition2 is True\n",
        "elif condition3:\n",
        "    # Code block if condition3 is True\n",
        "else:\n",
        "    # Code block if none of the above conditions are True\n",
        "'''\n",
        "\"\"\"\n",
        "The elif statement in Python is short for \"else if\". It's used as part of an if...elif...else conditional structure to check multiple conditions, one after another.\n",
        "Here's how it works:\n",
        "Basic Structure\n",
        "if condition1:\n",
        "    # Code block if condition1 is True\n",
        "elif condition2:\n",
        "    # Code block if condition2 is True\n",
        "elif condition3:\n",
        "    # Code block if condition3 is True\n",
        "else:\n",
        "    # Code block if none of the above conditions are True\n",
        "\"\"\""
      ],
      "metadata": {
        "id": "_WoWeEuanCGe",
        "colab": {
          "base_uri": "https://localhost:8080/",
          "height": 70
        },
        "outputId": "54b895d4-2993-40f8-e766-4185559df48a"
      },
      "execution_count": 5,
      "outputs": [
        {
          "output_type": "execute_result",
          "data": {
            "text/plain": [
              "'\\nThe elif statement in Python is short for \"else if\". It\\'s used as part of an if...elif...else conditional structure to check multiple conditions, one after another.\\nHere\\'s how it works:\\nBasic Structure\\nif condition1:\\n    # Code block if condition1 is True\\nelif condition2:\\n    # Code block if condition2 is True\\nelif condition3:\\n    # Code block if condition3 is True\\nelse:\\n    # Code block if none of the above conditions are True\\n'"
            ],
            "application/vnd.google.colaboratory.intrinsic+json": {
              "type": "string"
            }
          },
          "metadata": {},
          "execution_count": 5
        }
      ]
    },
    {
      "cell_type": "code",
      "source": [
        "# 13. What is the difference between for and while loops?\n",
        "'''\n",
        "The primary difference between for and while loops lies in how and when they check their conditions and how they are typically used. Here's a breakdown:\n",
        "for Loop\n",
        "Use case: When you know in advance how many times you want to loop.\n",
        "Syntax (in Python):\n",
        "for i in range(5): print(i)\n",
        "while Loop\n",
        "Use case: When you don’t know how many times you'll loop in advance — you loop until a condition becomes false.\n",
        "Syntax (in Python):\n",
        "i = 0\n",
        "while i < 5: print(i) i += 1\n",
        "'''\n",
        "\"\"\"\n",
        "The primary difference between for and while loops lies in how and when they check their conditions and how they are typically used. Here's a breakdown:\n",
        "for Loop\n",
        "Use case: When you know in advance how many times you want to loop.\n",
        "Syntax (in Python):\n",
        "for i in range(5): print(i)\n",
        "while Loop\n",
        "Use case: When you don’t know how many times you'll loop in advance — you loop until a condition becomes false.\n",
        "Syntax (in Python):\n",
        "i = 0\n",
        "while i < 5: print(i) i += 1\n",
        "\"\"\""
      ],
      "metadata": {
        "colab": {
          "base_uri": "https://localhost:8080/",
          "height": 105
        },
        "id": "PzpMvvDPo7sy",
        "outputId": "fc4981ee-fe04-41dd-86f3-2ded6f3dc61d"
      },
      "execution_count": 6,
      "outputs": [
        {
          "output_type": "execute_result",
          "data": {
            "text/plain": [
              "\"\\nThe main difference between for and while loops lies in how and when the loop condition is evaluated and how the loop is typically used. Here's a breakdown:\\n✅ for Loop\\nUsed when: You know ahead of time how many times you want to loop.\\nStructure: Combines initialization, condition, and update in one line.\\nTypical use case: Iterating over a range, list, or other iterable.\\n✅ while Loop\\nUsed when: You don't know ahead of time how many times to loop; you loop until a condition becomes false.\\nStructure: Only has a condition. Initialization and update must be done separately.\\nTypical use case: Looping until a user input is valid, or until some condition changes.\\n\""
            ],
            "application/vnd.google.colaboratory.intrinsic+json": {
              "type": "string"
            }
          },
          "metadata": {},
          "execution_count": 6
        }
      ]
    },
    {
      "cell_type": "code",
      "source": [
        "# 14. Describe a scenario where a while loop is more suitable than a for loop.\n",
        "'''\n",
        "A while loop is more suitable than a for loop when the number of iterations is not known in advance and depends on a condition that is evaluated during runtime.\n",
        "User Login System:\n",
        "You're building a system that asks a user for a password until they enter the correct one. You don't know how many attempts it will take, so a while loop is ideal.\n",
        "correct_password = \"secure123\" user_input = input(\"Enter your password: \")\n",
        "while user_input != correct_password: print(\"Incorrect password. Try again.\") user_input = input(\"Enter your password: \")\n",
        "print(\"Access granted!\")\n",
        "'''\n",
        "\"\"\"\n",
        "A while loop is more suitable than a for loop when the number of iterations is not known in advance and depends on a condition that is evaluated during runtime.\n",
        "User Login System:\n",
        "You're building a system that asks a user for a password until they enter the correct one. You don't know how many attempts it will take, so a while loop is ideal.\n",
        "correct_password = \"secure123\" user_input = input(\"Enter your password: \")\n",
        "while user_input != correct_password: print(\"Incorrect password. Try again.\") user_input = input(\"Enter your password: \")\n",
        "print(\"Access granted!\")\n",
        "\"\"\"\n"
      ],
      "metadata": {
        "colab": {
          "base_uri": "https://localhost:8080/",
          "height": 87
        },
        "id": "8x9tahfhp_qw",
        "outputId": "3b92c7b9-35df-4de7-feda-76f22bd7dcf7"
      },
      "execution_count": 7,
      "outputs": [
        {
          "output_type": "execute_result",
          "data": {
            "text/plain": [
              "'\\nA while loop is more suitable than a for loop when the number of iterations is not known in advance and depends on a condition that is evaluated during runtime.\\nUser Login System:\\nYou\\'re building a system that asks a user for a password until they enter the correct one. You don\\'t know how many attempts it will take, so a while loop is ideal.\\ncorrect_password = \"secure123\" user_input = input(\"Enter your password: \")\\nwhile user_input != correct_password: print(\"Incorrect password. Try again.\") user_input = input(\"Enter your password: \")\\nprint(\"Access granted!\")\\n'"
            ],
            "application/vnd.google.colaboratory.intrinsic+json": {
              "type": "string"
            }
          },
          "metadata": {},
          "execution_count": 7
        }
      ]
    },
    {
      "cell_type": "code",
      "source": [],
      "metadata": {
        "id": "yTKIkXdbruqF"
      },
      "execution_count": null,
      "outputs": []
    }
  ]
}